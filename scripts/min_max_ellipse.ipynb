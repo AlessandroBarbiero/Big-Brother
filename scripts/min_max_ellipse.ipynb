{
 "cells": [
  {
   "cell_type": "code",
   "execution_count": 1,
   "metadata": {},
   "outputs": [],
   "source": [
    "from sympy import *\n",
    "init_printing(use_unicode=True)"
   ]
  },
  {
   "cell_type": "code",
   "execution_count": 2,
   "metadata": {},
   "outputs": [],
   "source": [
    "# ELLIPSE\n",
    "h = Symbol('h') # x center\n",
    "k = Symbol('k') # y center\n",
    "a = Symbol('a') # semi-axis\n",
    "b = Symbol('b') # semi-axis \n",
    "theta = Symbol('theta')\n",
    "x = Symbol('x')\n",
    "y = Symbol('y')\n",
    "\n",
    "ellipse_equation = (((x-h)*cos(theta)+ (y-k)*sin(theta))**2)/(a**2) + (((x-h)*sin(theta) - (y-k)*cos(theta))**2)/(b**2) -1\n",
    "\n",
    "# Compute maximum and minimum y\n",
    "value_for_y = idiff(ellipse_equation, y, x)\n",
    "value_for_y = value_for_y.simplify()\n",
    "y_value = solve(value_for_y, y)\n",
    "subs_y = {\n",
    "    y: y_value[0]\n",
    "}\n",
    "x_value = solve(ellipse_equation.subs(subs_y), x)\n",
    "x_value = [x_v.simplify() for x_v in x_value]\n",
    "subs_x_1 = {\n",
    "    x: x_value[0]\n",
    "}\n",
    "subs_x_2 = {\n",
    "    x: x_value[1]\n",
    "}\n",
    "y_value_1 = solve(value_for_y.subs(subs_x_1), y)\n",
    "y_value_2 = solve(value_for_y.subs(subs_x_2), y)\n",
    "y_value_1 = [y_v.simplify() for y_v in y_value_1]\n",
    "y_value_2 = [y_v.simplify() for y_v in y_value_2]\n",
    "y_value_def = [y_value_1[0], y_value_2[0]]\n",
    "\n",
    "\n",
    "# Compute maximum and minimum x\n",
    "value_for_x = idiff(ellipse_equation, x, y)\n",
    "value_for_x = value_for_x.simplify()\n",
    "x_value = solve(value_for_x, x)\n",
    "subs_x = {\n",
    "    x: x_value[0]\n",
    "}\n",
    "y_value = solve(ellipse_equation.subs(subs_x), y)\n",
    "y_value = [y_v.simplify() for y_v in y_value]\n",
    "subs_y_1 = {\n",
    "    y: y_value[0]\n",
    "}\n",
    "subs_y_2 = {\n",
    "    y: y_value[1]\n",
    "}\n",
    "x_value_1 = solve(value_for_x.subs(subs_y_1), x)\n",
    "x_value_2 = solve(value_for_x.subs(subs_y_2), x)\n",
    "x_value_1 = [x_v.simplify() for x_v in x_value_1]\n",
    "x_value_2 = [x_v.simplify() for x_v in x_value_2]\n",
    "x_value_def = [x_value_1[0], x_value_2[0]]"
   ]
  },
  {
   "cell_type": "code",
   "execution_count": 3,
   "metadata": {},
   "outputs": [
    {
     "data": {
      "text/latex": [
       "$\\displaystyle \\left[ \\frac{- a^{3} b \\sin^{2}{\\left(\\theta \\right)} - a b^{3} \\cos^{2}{\\left(\\theta \\right)} + k \\sqrt{a^{2} b^{2} \\left(a^{2} \\sin^{2}{\\left(\\theta \\right)} - b^{2} \\sin^{2}{\\left(\\theta \\right)} + b^{2}\\right)}}{\\sqrt{a^{2} b^{2} \\left(a^{2} \\sin^{2}{\\left(\\theta \\right)} - b^{2} \\sin^{2}{\\left(\\theta \\right)} + b^{2}\\right)}}, \\  \\frac{a^{3} b \\sin^{2}{\\left(\\theta \\right)} + a b^{3} \\cos^{2}{\\left(\\theta \\right)} + k \\sqrt{a^{2} b^{2} \\left(a^{2} \\sin^{2}{\\left(\\theta \\right)} - b^{2} \\sin^{2}{\\left(\\theta \\right)} + b^{2}\\right)}}{\\sqrt{a^{2} b^{2} \\left(a^{2} \\sin^{2}{\\left(\\theta \\right)} - b^{2} \\sin^{2}{\\left(\\theta \\right)} + b^{2}\\right)}}\\right]$"
      ],
      "text/plain": [
       "⎡                                     ______________________________________  \n",
       "⎢   3      2         3    2          ╱  2  2 ⎛ 2    2       2    2       2⎞   \n",
       "⎢- a ⋅b⋅sin (θ) - a⋅b ⋅cos (θ) + k⋅╲╱  a ⋅b ⋅⎝a ⋅sin (θ) - b ⋅sin (θ) + b ⎠   \n",
       "⎢───────────────────────────────────────────────────────────────────────────, \n",
       "⎢                    ______________________________________                   \n",
       "⎢                   ╱  2  2 ⎛ 2    2       2    2       2⎞                    \n",
       "⎣                 ╲╱  a ⋅b ⋅⎝a ⋅sin (θ) - b ⋅sin (θ) + b ⎠                    \n",
       "\n",
       "                                   ______________________________________⎤\n",
       " 3      2         3    2          ╱  2  2 ⎛ 2    2       2    2       2⎞ ⎥\n",
       "a ⋅b⋅sin (θ) + a⋅b ⋅cos (θ) + k⋅╲╱  a ⋅b ⋅⎝a ⋅sin (θ) - b ⋅sin (θ) + b ⎠ ⎥\n",
       "─────────────────────────────────────────────────────────────────────────⎥\n",
       "                   ______________________________________                ⎥\n",
       "                  ╱  2  2 ⎛ 2    2       2    2       2⎞                 ⎥\n",
       "                ╲╱  a ⋅b ⋅⎝a ⋅sin (θ) - b ⋅sin (θ) + b ⎠                 ⎦"
      ]
     },
     "execution_count": 3,
     "metadata": {},
     "output_type": "execute_result"
    }
   ],
   "source": [
    "y_value_def"
   ]
  },
  {
   "cell_type": "code",
   "execution_count": 4,
   "metadata": {},
   "outputs": [
    {
     "data": {
      "text/latex": [
       "$\\displaystyle \\left[ \\frac{- a^{3} b \\cos^{2}{\\left(\\theta \\right)} - a b^{3} \\sin^{2}{\\left(\\theta \\right)} + h \\sqrt{a^{2} b^{2} \\left(- a^{2} \\sin^{2}{\\left(\\theta \\right)} + a^{2} + b^{2} \\sin^{2}{\\left(\\theta \\right)}\\right)}}{\\sqrt{a^{2} b^{2} \\left(- a^{2} \\sin^{2}{\\left(\\theta \\right)} + a^{2} + b^{2} \\sin^{2}{\\left(\\theta \\right)}\\right)}}, \\  \\frac{a^{3} b \\cos^{2}{\\left(\\theta \\right)} + a b^{3} \\sin^{2}{\\left(\\theta \\right)} + h \\sqrt{a^{2} b^{2} \\left(- a^{2} \\sin^{2}{\\left(\\theta \\right)} + a^{2} + b^{2} \\sin^{2}{\\left(\\theta \\right)}\\right)}}{\\sqrt{a^{2} b^{2} \\left(- a^{2} \\sin^{2}{\\left(\\theta \\right)} + a^{2} + b^{2} \\sin^{2}{\\left(\\theta \\right)}\\right)}}\\right]$"
      ],
      "text/plain": [
       "⎡                                     ________________________________________\n",
       "⎢   3      2         3    2          ╱  2  2 ⎛   2    2       2    2    2   ⎞ \n",
       "⎢- a ⋅b⋅cos (θ) - a⋅b ⋅sin (θ) + h⋅╲╱  a ⋅b ⋅⎝- a ⋅sin (θ) + a  + b ⋅sin (θ)⎠ \n",
       "⎢─────────────────────────────────────────────────────────────────────────────\n",
       "⎢                    ________________________________________                 \n",
       "⎢                   ╱  2  2 ⎛   2    2       2    2    2   ⎞                  \n",
       "⎣                 ╲╱  a ⋅b ⋅⎝- a ⋅sin (θ) + a  + b ⋅sin (θ)⎠                  \n",
       "\n",
       "                                     ________________________________________⎤\n",
       "   3      2         3    2          ╱  2  2 ⎛   2    2       2    2    2   ⎞ ⎥\n",
       "  a ⋅b⋅cos (θ) + a⋅b ⋅sin (θ) + h⋅╲╱  a ⋅b ⋅⎝- a ⋅sin (θ) + a  + b ⋅sin (θ)⎠ ⎥\n",
       ", ───────────────────────────────────────────────────────────────────────────⎥\n",
       "                     ________________________________________                ⎥\n",
       "                    ╱  2  2 ⎛   2    2       2    2    2   ⎞                 ⎥\n",
       "                  ╲╱  a ⋅b ⋅⎝- a ⋅sin (θ) + a  + b ⋅sin (θ)⎠                 ⎦"
      ]
     },
     "execution_count": 4,
     "metadata": {},
     "output_type": "execute_result"
    }
   ],
   "source": [
    "x_value_def"
   ]
  }
 ],
 "metadata": {
  "kernelspec": {
   "display_name": "Python 3",
   "language": "python",
   "name": "python3"
  },
  "language_info": {
   "codemirror_mode": {
    "name": "ipython",
    "version": 3
   },
   "file_extension": ".py",
   "mimetype": "text/x-python",
   "name": "python",
   "nbconvert_exporter": "python",
   "pygments_lexer": "ipython3",
   "version": "3.9.13"
  }
 },
 "nbformat": 4,
 "nbformat_minor": 2
}
