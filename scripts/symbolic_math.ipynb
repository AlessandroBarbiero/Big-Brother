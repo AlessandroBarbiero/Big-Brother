{
 "cells": [
  {
   "cell_type": "code",
   "execution_count": 1,
   "metadata": {},
   "outputs": [],
   "source": [
    "from sympy import *\n",
    "from long_functions import *\n",
    "import math\n",
    "init_printing(use_unicode=True)"
   ]
  },
  {
   "cell_type": "code",
   "execution_count": 2,
   "metadata": {},
   "outputs": [],
   "source": [
    "# STATE\n",
    "x = Symbol('x')\n",
    "y = Symbol('y')\n",
    "theta = Symbol('theta')\n",
    "l_ratio = Symbol('l_ratio')\n",
    "d_ratio = Symbol('d_ratio')\n",
    "h = Symbol('h')\n",
    "v = Symbol('v')\n",
    "w = Symbol('w')\n",
    "state = Matrix([x,y,theta,l_ratio,d_ratio,h,v,w])\n",
    "\n",
    "l = l_ratio*h\n",
    "d = d_ratio*h\n",
    "\n",
    "# VIEW MATRIX\n",
    "# vr00 = Symbol('Vr_00')\n",
    "# vr01 = Symbol('Vr_01')\n",
    "# vr02 = Symbol('Vr_02')\n",
    "# vr10 = Symbol('Vr_10')\n",
    "# vr11 = Symbol('Vr_11')\n",
    "# vr12 = Symbol('Vr_12')\n",
    "# vr20 = Symbol('Vr_20')\n",
    "# vr21 = Symbol('Vr_21')\n",
    "# vr22 = Symbol('Vr_22')\n",
    "# VR = Matrix([[vr00, vr01, vr02],[vr10, vr11, vr12],[vr20, vr21, vr22]])\n",
    "# vtx = Symbol('Vtx')\n",
    "# vty = Symbol('Vty')\n",
    "# vtz = Symbol('Vtz')\n",
    "vr00 = Symbol('vr00')\n",
    "vr01 = Symbol('vr01')\n",
    "vr02 = Symbol('vr02')\n",
    "vr10 = Symbol('vr10')\n",
    "vr11 = Symbol('vr11')\n",
    "vr12 = Symbol('vr12')\n",
    "vr20 = Symbol('vr20')\n",
    "vr21 = Symbol('vr21')\n",
    "vr22 = Symbol('vr22')\n",
    "VR = Matrix([[vr00, vr01, vr02],[vr10, vr11, vr12],[vr20, vr21, vr22]])\n",
    "vtx = Symbol('vtx')\n",
    "vty = Symbol('vty')\n",
    "vtz = Symbol('vtz')\n",
    "VT = Matrix([vtx,vty,vtz])\n",
    "viewMat = eye(4)\n",
    "viewMat[0:3,0:3] = VR\n",
    "viewMat[0:3,3] = VT\n",
    "\n",
    "# PROJECTION MATRIX\n",
    "fx = Symbol('fx')\n",
    "fy = Symbol('fy')\n",
    "cx = Symbol('cx')\n",
    "cy = Symbol('cy')\n",
    "P = Matrix([[fx,0,cx,0],[0,fy,cy,0],[0,0,1,0]])\n",
    "\n",
    "# WORLD VIEW PROJECTION MATRIX\n",
    "m00 = Symbol('m_00')\n",
    "m01 = Symbol('m_01')\n",
    "m02 = Symbol('m_02')\n",
    "m03 = Symbol('m_03')\n",
    "m10 = Symbol('m_10')\n",
    "m11 = Symbol('m_11')\n",
    "m12 = Symbol('m_12')\n",
    "m13 = Symbol('m_13')\n",
    "m20 = Symbol('m_20')\n",
    "m21 = Symbol('m_21')\n",
    "m22 = Symbol('m_22')\n",
    "m23 = Symbol('m_23')\n",
    "M_wvp = Matrix([[m00, m01, m02, m03],[m10, m11, m12, m13],[m20, m21, m22, m23]])"
   ]
  },
  {
   "cell_type": "code",
   "execution_count": 3,
   "metadata": {},
   "outputs": [
    {
     "name": "stdout",
     "output_type": "stream",
     "text": [
      "Matrix([[cos(theta), sin(theta), 0, 0], [-sin(theta), cos(theta), 0, 0], [0, 0, 1, 0], [0, 0, 0, 1]])\n",
      "Matrix([[cos(theta), -sin(theta), 0, x], [sin(theta), cos(theta), 0, y], [0, 0, 1, z], [0, 0, 0, 1]])\n"
     ]
    }
   ],
   "source": [
    "# ELLIPSOID\n",
    "z = Symbol('z')\n",
    "\n",
    "a = Symbol('a_3D')\n",
    "b = Symbol('b_3D')\n",
    "c = Symbol('c_3D')\n",
    "\n",
    "subs_ellipsoid = {\n",
    "    z : h/2,\n",
    "    a : l/2,\n",
    "    b : d/2,\n",
    "    c : h/2\n",
    "}\n",
    "\n",
    "Q = Matrix([[a**2, 0, 0, 0], [0, b**2, 0, 0],[0, 0, c**2, 0],[0, 0, 0, -1]])\n",
    "\n",
    "# WORLD Matrix\n",
    "WR = Matrix([[cos(theta), -sin(theta), 0],[sin(theta), cos(theta), 0],[0,0,1]])\n",
    "Re_w = eye(4)\n",
    "Re_w[0:3,0:3] = WR.T\n",
    "\n",
    "center_ellipsoid = Matrix([x,y,z])\n",
    "T_c_inv = eye(4)\n",
    "T_c_inv[0:3,3] = center_ellipsoid\n",
    "\n",
    "W = T_c_inv*Re_w.T\n",
    "# world view projection matrix\n",
    "M_wvp_real = P*viewMat*W\n",
    "\n",
    "subs_wvp = {\n",
    "    m00 : M_wvp_real[0,0],\n",
    "    m01 : M_wvp_real[0,1],\n",
    "    m02 : M_wvp_real[0,2],\n",
    "    m03 : M_wvp_real[0,3],\n",
    "    m10 : M_wvp_real[1,0],\n",
    "    m11 : M_wvp_real[1,1],\n",
    "    m12 : M_wvp_real[1,2],\n",
    "    m13 : M_wvp_real[1,3],\n",
    "    m20 : M_wvp_real[2,0],\n",
    "    m21 : M_wvp_real[2,1],\n",
    "    m22 : M_wvp_real[2,2],\n",
    "    m23 : M_wvp_real[2,3]\n",
    "}\n",
    "\n",
    "# Compute the check to perform to see if an object is behind the camera\n",
    "M_wv = viewMat*W\n",
    "Q_star_camera = M_wv * Q * M_wv.T\n",
    "check = Q_star_camera[2,3]/Q_star_camera[3,3]\n",
    "# if check < 0 the object is behind the camera "
   ]
  },
  {
   "cell_type": "code",
   "execution_count": 4,
   "metadata": {},
   "outputs": [],
   "source": [
    "# ELLIPSE\n",
    "C_star = M_wvp * Q * M_wvp.T\n",
    "\n",
    "C_star = (-1/C_star[2,2])*C_star\n",
    "ellipse_centre = Matrix([-C_star[0,2],-C_star[1,2]])\n",
    "\n",
    "T_e_origin = eye(3)\n",
    "T_e_origin[0:2, 2] = -ellipse_centre\n",
    "C_centre = T_e_origin*C_star*T_e_origin.T\n",
    "C_centre = 0.5*(C_centre + C_centre.T)\n",
    "\n",
    "C_submat = C_centre[0:2, 0:2]\n",
    "\n",
    "c00 = Symbol('c_00')\n",
    "c01 = Symbol('c_01')\n",
    "c10 = Symbol('c_10')\n",
    "c11 = Symbol('c_11')\n",
    "# Substitutions to reduce complexity\n",
    "subs_c = {\n",
    "    c00: C_submat[0,0],\n",
    "    c01: C_submat[0,1],\n",
    "    c10: C_submat[1,0],\n",
    "    c11: C_submat[1,1],\n",
    "}\n",
    "\n",
    "temp = Matrix([[c00,c01], [c10,c11]])\n",
    "\n",
    "lambdas = list(temp.eigenvals().keys())\n",
    "lambdas_list = [sqrt(l) for l in lambdas]\n",
    "semi_axes = Matrix(lambdas_list)\n",
    "\n",
    "semi_axes = semi_axes.subs(subs_c)\n",
    "# Simplify the formula for the axis, this is the maximum depth for semplification, \n",
    "# do that on other terms require too much time or do not have effect\n",
    "semi_axes.simplify()\n",
    "# [X_center, Y_center, semi_axis_A, semi_axis_B]\n",
    "ellipse_state = Matrix([ellipse_centre[0], ellipse_centre[1], semi_axes[0], semi_axes[1]])\n",
    "\n",
    "\n",
    "# Here we can obtain the final equations\n",
    "ellipse_state = ellipse_state.subs(subs_wvp).subs(subs_ellipsoid)"
   ]
  },
  {
   "cell_type": "code",
   "execution_count": null,
   "metadata": {},
   "outputs": [
    {
     "name": "stdout",
     "output_type": "stream",
     "text": [
      "ImmutableDenseMatrix([[vr00*(-1/2*h*vr02*x + vr00*((1/4)*d_ratio**2*h**2*math.sin(theta)**2 + (1/4)*h**2*l_ratio**2*math.cos(theta)**2 - x**2) + vr01*(-1/4*d_ratio**2*h**2*math.sin(theta)*math.cos(theta) + (1/4)*h**2*l_ratio**2*math.sin(theta)*math.cos(theta) - x*y) - vtx*x) + vr01*(-1/2*h*vr02*y + vr00*(-1/4*d_ratio**2*h**2*math.sin(theta)*math.cos(theta) + (1/4)*h**2*l_ratio**2*math.sin(theta)*math.cos(theta) - x*y) + vr01*((1/4)*d_ratio**2*h**2*math.cos(theta)**2 + (1/4)*h**2*l_ratio**2*math.sin(theta)**2 - y**2) - vtx*y) + vr02*(-1/2*h*vr00*x - 1/2*h*vr01*y - 1/2*h*vtx) + vtx*(-1/2*h*vr02 - vr00*x - vr01*y - vtx), vr10*(-1/2*h*vr02*x + vr00*((1/4)*d_ratio**2*h**2*math.sin(theta)**2 + (1/4)*h**2*l_ratio**2*math.cos(theta)**2 - x**2) + vr01*(-1/4*d_ratio**2*h**2*math.sin(theta)*math.cos(theta) + (1/4)*h**2*l_ratio**2*math.sin(theta)*math.cos(theta) - x*y) - vtx*x) + vr11*(-1/2*h*vr02*y + vr00*(-1/4*d_ratio**2*h**2*math.sin(theta)*math.cos(theta) + (1/4)*h**2*l_ratio**2*math.sin(theta)*math.cos(theta) - x*y) + vr01*((1/4)*d_ratio**2*h**2*math.cos(theta)**2 + (1/4)*h**2*l_ratio**2*math.sin(theta)**2 - y**2) - vtx*y) + vr12*(-1/2*h*vr00*x - 1/2*h*vr01*y - 1/2*h*vtx) + vty*(-1/2*h*vr02 - vr00*x - vr01*y - vtx), vr20*(-1/2*h*vr02*x + vr00*((1/4)*d_ratio**2*h**2*math.sin(theta)**2 + (1/4)*h**2*l_ratio**2*math.cos(theta)**2 - x**2) + vr01*(-1/4*d_ratio**2*h**2*math.sin(theta)*math.cos(theta) + (1/4)*h**2*l_ratio**2*math.sin(theta)*math.cos(theta) - x*y) - vtx*x) + vr21*(-1/2*h*vr02*y + vr00*(-1/4*d_ratio**2*h**2*math.sin(theta)*math.cos(theta) + (1/4)*h**2*l_ratio**2*math.sin(theta)*math.cos(theta) - x*y) + vr01*((1/4)*d_ratio**2*h**2*math.cos(theta)**2 + (1/4)*h**2*l_ratio**2*math.sin(theta)**2 - y**2) - vtx*y) + vr22*(-1/2*h*vr00*x - 1/2*h*vr01*y - 1/2*h*vtx) + vtz*(-1/2*h*vr02 - vr00*x - vr01*y - vtx), -1/2*h*vr02 - vr00*x - vr01*y - vtx], [vr00*(-1/2*h*vr12*x + vr10*((1/4)*d_ratio**2*h**2*math.sin(theta)**2 + (1/4)*h**2*l_ratio**2*math.cos(theta)**2 - x**2) + vr11*(-1/4*d_ratio**2*h**2*math.sin(theta)*math.cos(theta) + (1/4)*h**2*l_ratio**2*math.sin(theta)*math.cos(theta) - x*y) - vty*x) + vr01*(-1/2*h*vr12*y + vr10*(-1/4*d_ratio**2*h**2*math.sin(theta)*math.cos(theta) + (1/4)*h**2*l_ratio**2*math.sin(theta)*math.cos(theta) - x*y) + vr11*((1/4)*d_ratio**2*h**2*math.cos(theta)**2 + (1/4)*h**2*l_ratio**2*math.sin(theta)**2 - y**2) - vty*y) + vr02*(-1/2*h*vr10*x - 1/2*h*vr11*y - 1/2*h*vty) + vtx*(-1/2*h*vr12 - vr10*x - vr11*y - vty), vr10*(-1/2*h*vr12*x + vr10*((1/4)*d_ratio**2*h**2*math.sin(theta)**2 + (1/4)*h**2*l_ratio**2*math.cos(theta)**2 - x**2) + vr11*(-1/4*d_ratio**2*h**2*math.sin(theta)*math.cos(theta) + (1/4)*h**2*l_ratio**2*math.sin(theta)*math.cos(theta) - x*y) - vty*x) + vr11*(-1/2*h*vr12*y + vr10*(-1/4*d_ratio**2*h**2*math.sin(theta)*math.cos(theta) + (1/4)*h**2*l_ratio**2*math.sin(theta)*math.cos(theta) - x*y) + vr11*((1/4)*d_ratio**2*h**2*math.cos(theta)**2 + (1/4)*h**2*l_ratio**2*math.sin(theta)**2 - y**2) - vty*y) + vr12*(-1/2*h*vr10*x - 1/2*h*vr11*y - 1/2*h*vty) + vty*(-1/2*h*vr12 - vr10*x - vr11*y - vty), vr20*(-1/2*h*vr12*x + vr10*((1/4)*d_ratio**2*h**2*math.sin(theta)**2 + (1/4)*h**2*l_ratio**2*math.cos(theta)**2 - x**2) + vr11*(-1/4*d_ratio**2*h**2*math.sin(theta)*math.cos(theta) + (1/4)*h**2*l_ratio**2*math.sin(theta)*math.cos(theta) - x*y) - vty*x) + vr21*(-1/2*h*vr12*y + vr10*(-1/4*d_ratio**2*h**2*math.sin(theta)*math.cos(theta) + (1/4)*h**2*l_ratio**2*math.sin(theta)*math.cos(theta) - x*y) + vr11*((1/4)*d_ratio**2*h**2*math.cos(theta)**2 + (1/4)*h**2*l_ratio**2*math.sin(theta)**2 - y**2) - vty*y) + vr22*(-1/2*h*vr10*x - 1/2*h*vr11*y - 1/2*h*vty) + vtz*(-1/2*h*vr12 - vr10*x - vr11*y - vty), -1/2*h*vr12 - vr10*x - vr11*y - vty], [vr00*(-1/2*h*vr22*x + vr20*((1/4)*d_ratio**2*h**2*math.sin(theta)**2 + (1/4)*h**2*l_ratio**2*math.cos(theta)**2 - x**2) + vr21*(-1/4*d_ratio**2*h**2*math.sin(theta)*math.cos(theta) + (1/4)*h**2*l_ratio**2*math.sin(theta)*math.cos(theta) - x*y) - vtz*x) + vr01*(-1/2*h*vr22*y + vr20*(-1/4*d_ratio**2*h**2*math.sin(theta)*math.cos(theta) + (1/4)*h**2*l_ratio**2*math.sin(theta)*math.cos(theta) - x*y) + vr21*((1/4)*d_ratio**2*h**2*math.cos(theta)**2 + (1/4)*h**2*l_ratio**2*math.sin(theta)**2 - y**2) - vtz*y) + vr02*(-1/2*h*vr20*x - 1/2*h*vr21*y - 1/2*h*vtz) + vtx*(-1/2*h*vr22 - vr20*x - vr21*y - vtz), vr10*(-1/2*h*vr22*x + vr20*((1/4)*d_ratio**2*h**2*math.sin(theta)**2 + (1/4)*h**2*l_ratio**2*math.cos(theta)**2 - x**2) + vr21*(-1/4*d_ratio**2*h**2*math.sin(theta)*math.cos(theta) + (1/4)*h**2*l_ratio**2*math.sin(theta)*math.cos(theta) - x*y) - vtz*x) + vr11*(-1/2*h*vr22*y + vr20*(-1/4*d_ratio**2*h**2*math.sin(theta)*math.cos(theta) + (1/4)*h**2*l_ratio**2*math.sin(theta)*math.cos(theta) - x*y) + vr21*((1/4)*d_ratio**2*h**2*math.cos(theta)**2 + (1/4)*h**2*l_ratio**2*math.sin(theta)**2 - y**2) - vtz*y) + vr12*(-1/2*h*vr20*x - 1/2*h*vr21*y - 1/2*h*vtz) + vty*(-1/2*h*vr22 - vr20*x - vr21*y - vtz), vr20*(-1/2*h*vr22*x + vr20*((1/4)*d_ratio**2*h**2*math.sin(theta)**2 + (1/4)*h**2*l_ratio**2*math.cos(theta)**2 - x**2) + vr21*(-1/4*d_ratio**2*h**2*math.sin(theta)*math.cos(theta) + (1/4)*h**2*l_ratio**2*math.sin(theta)*math.cos(theta) - x*y) - vtz*x) + vr21*(-1/2*h*vr22*y + vr20*(-1/4*d_ratio**2*h**2*math.sin(theta)*math.cos(theta) + (1/4)*h**2*l_ratio**2*math.sin(theta)*math.cos(theta) - x*y) + vr21*((1/4)*d_ratio**2*h**2*math.cos(theta)**2 + (1/4)*h**2*l_ratio**2*math.sin(theta)**2 - y**2) - vtz*y) + vr22*(-1/2*h*vr20*x - 1/2*h*vr21*y - 1/2*h*vtz) + vtz*(-1/2*h*vr22 - vr20*x - vr21*y - vtz), -1/2*h*vr22 - vr20*x - vr21*y - vtz], [-1/2*h*vr02 - vr00*x - vr01*y - vtx, -1/2*h*vr12 - vr10*x - vr11*y - vty, -1/2*h*vr22 - vr20*x - vr21*y - vtz, -1]])\n"
     ]
    }
   ],
   "source": [
    "print(pycode(C_submat.subs(subs_wvp).subs(subs_ellipsoid)))"
   ]
  },
  {
   "cell_type": "code",
   "execution_count": null,
   "metadata": {},
   "outputs": [],
   "source": [
    "print(pycode(ellipse_state))"
   ]
  },
  {
   "cell_type": "code",
   "execution_count": null,
   "metadata": {},
   "outputs": [],
   "source": [
    "# H MATRIX\n",
    "jacobian = ellipse_state.jacobian(state)\n",
    "print(pycode(jacobian))\n",
    "# impossible to simplify\n",
    "# H_matrix = jacobian.simplify()"
   ]
  },
  {
   "cell_type": "code",
   "execution_count": null,
   "metadata": {},
   "outputs": [
    {
     "name": "stdout",
     "output_type": "stream",
     "text": [
      "\\\\result is a eigen::Matrix<4,8,RowMajor>, delete last ,\n",
      "result <<\n",
      "\t ((1.0/4.0)*pow(d_ratio, 2)*pow(h, 2)*(-vr20*sin(theta) + vr21*cos(theta))*(-(cx*vr20 + fx*vr00)*sin(theta) + (cx*vr21 + fx*vr01)*cos(theta)) + (1.0/4.0)*pow(h, 2)*pow(l_ratio, 2)*(vr20*cos(theta) + vr21*sin(theta))*((cx*vr20 + fx*vr00)*cos(theta) + (cx*vr21 + fx*vr01)*sin(theta)) + (1.0/4.0)*pow(h, 2)*vr22*(cx*vr22 + fx*vr02) - ((1.0/2.0)*h*vr22 + vr20*x + vr21*y + vtz)*(cx*vtz + fx*vtx + (1.0/2.0)*h*(cx*vr22 + fx*vr02) + x*(cx*vr20 + fx*vr00) + y*(cx*vr21 + fx*vr01)))/((1.0/4.0)*pow(d_ratio, 2)*pow(h, 2)*pow(-vr20*sin(theta) + vr21*cos(theta), 2) + (1.0/4.0)*pow(h, 2)*pow(l_ratio, 2)*pow(vr20*cos(theta) + vr21*sin(theta), 2) + (1.0/4.0)*pow(h, 2)*pow(vr22, 2) - pow((1.0/2.0)*h*vr22 + vr20*x + vr21*y + vtz, 2)) ,\n",
      "\t ((1.0/4.0)*pow(d_ratio, 2)*pow(h, 2)*(-vr20*sin(theta) + vr21*cos(theta))*(-(cy*vr20 + fy*vr10)*sin(theta) + (cy*vr21 + fy*vr11)*cos(theta)) + (1.0/4.0)*pow(h, 2)*pow(l_ratio, 2)*(vr20*cos(theta) + vr21*sin(theta))*((cy*vr20 + fy*vr10)*cos(theta) + (cy*vr21 + fy*vr11)*sin(theta)) + (1.0/4.0)*pow(h, 2)*vr22*(cy*vr22 + fy*vr12) - ((1.0/2.0)*h*vr22 + vr20*x + vr21*y + vtz)*(cy*vtz + fy*vty + (1.0/2.0)*h*(cy*vr22 + fy*vr12) + x*(cy*vr20 + fy*vr10) + y*(cy*vr21 + fy*vr11)))/((1.0/4.0)*pow(d_ratio, 2)*pow(h, 2)*pow(-vr20*sin(theta) + vr21*cos(theta), 2) + (1.0/4.0)*pow(h, 2)*pow(l_ratio, 2)*pow(vr20*cos(theta) + vr21*sin(theta), 2) + (1.0/4.0)*pow(h, 2)*pow(vr22, 2) - pow((1.0/2.0)*h*vr22 + vr20*x + vr21*y + vtz, 2)) ,\n",
      "\t (1.0/2.0)*M_SQRT2*sqrt((-1.0/4.0*pow(d_ratio, 2)*pow(h, 2)*pow(-(cx*vr20 + fx*vr00)*sin(theta) + (cx*vr21 + fx*vr01)*cos(theta), 2) - 1.0/4.0*pow(d_ratio, 2)*pow(h, 2)*pow(-(cy*vr20 + fy*vr10)*sin(theta) + (cy*vr21 + fy*vr11)*cos(theta), 2) - 1.0/4.0*pow(h, 2)*pow(l_ratio, 2)*pow((cx*vr20 + fx*vr00)*cos(theta) + (cx*vr21 + fx*vr01)*sin(theta), 2) - 1.0/4.0*pow(h, 2)*pow(l_ratio, 2)*pow((cy*vr20 + fy*vr10)*cos(theta) + (cy*vr21 + fy*vr11)*sin(theta), 2) - 1.0/4.0*pow(h, 2)*pow(cx*vr22 + fx*vr02, 2) - 1.0/4.0*pow(h, 2)*pow(cy*vr22 + fy*vr12, 2) - sqrt((pow((1.0/4.0)*pow(d_ratio, 2)*pow(h, 2)*pow(-(cx*vr20 + fx*vr00)*sin(theta) + (cx*vr21 + fx*vr01)*cos(theta), 2) + (1.0/4.0)*pow(h, 2)*pow(l_ratio, 2)*pow((cx*vr20 + fx*vr00)*cos(theta) + (cx*vr21 + fx*vr01)*sin(theta), 2) + (1.0/4.0)*pow(h, 2)*pow(cx*vr22 + fx*vr02, 2) - pow(cx*vtz + fx*vtx + (1.0/2.0)*h*(cx*vr22 + fx*vr02) + x*(cx*vr20 + fx*vr00) + y*(cx*vr21 + fx*vr01), 2), 2) - 2*((1.0/4.0)*pow(d_ratio, 2)*pow(h, 2)*pow(-(cx*vr20 + fx*vr00)*sin(theta) + (cx*vr21 + fx*vr01)*cos(theta), 2) + (1.0/4.0)*pow(h, 2)*pow(l_ratio, 2)*pow((cx*vr20 + fx*vr00)*cos(theta) + (cx*vr21 + fx*vr01)*sin(theta), 2) + (1.0/4.0)*pow(h, 2)*pow(cx*vr22 + fx*vr02, 2) - pow(cx*vtz + fx*vtx + (1.0/2.0)*h*(cx*vr22 + fx*vr02) + x*(cx*vr20 + fx*vr00) + y*(cx*vr21 + fx*vr01), 2))*((1.0/4.0)*pow(d_ratio, 2)*pow(h, 2)*pow(-(cy*vr20 + fy*vr10)*sin(theta) + (cy*vr21 + fy*vr11)*cos(theta), 2) + (1.0/4.0)*pow(h, 2)*pow(l_ratio, 2)*pow((cy*vr20 + fy*vr10)*cos(theta) + (cy*vr21 + fy*vr11)*sin(theta), 2) + (1.0/4.0)*pow(h, 2)*pow(cy*vr22 + fy*vr12, 2) - pow(cy*vtz + fy*vty + (1.0/2.0)*h*(cy*vr22 + fy*vr12) + x*(cy*vr20 + fy*vr10) + y*(cy*vr21 + fy*vr11), 2)) + pow((1.0/4.0)*pow(d_ratio, 2)*pow(h, 2)*pow(-(cy*vr20 + fy*vr10)*sin(theta) + (cy*vr21 + fy*vr11)*cos(theta), 2) + (1.0/4.0)*pow(h, 2)*pow(l_ratio, 2)*pow((cy*vr20 + fy*vr10)*cos(theta) + (cy*vr21 + fy*vr11)*sin(theta), 2) + (1.0/4.0)*pow(h, 2)*pow(cy*vr22 + fy*vr12, 2) - pow(cy*vtz + fy*vty + (1.0/2.0)*h*(cy*vr22 + fy*vr12) + x*(cy*vr20 + fy*vr10) + y*(cy*vr21 + fy*vr11), 2), 2) + 4*pow((1.0/4.0)*pow(d_ratio, 2)*pow(h, 2)*(-(cx*vr20 + fx*vr00)*sin(theta) + (cx*vr21 + fx*vr01)*cos(theta))*(-(cy*vr20 + fy*vr10)*sin(theta) + (cy*vr21 + fy*vr11)*cos(theta)) + (1.0/4.0)*pow(h, 2)*pow(l_ratio, 2)*((cx*vr20 + fx*vr00)*cos(theta) + (cx*vr21 + fx*vr01)*sin(theta))*((cy*vr20 + fy*vr10)*cos(theta) + (cy*vr21 + fy*vr11)*sin(theta)) + (1.0/4.0)*pow(h, 2)*(cx*vr22 + fx*vr02)*(cy*vr22 + fy*vr12) - (cx*vtz + fx*vtx + (1.0/2.0)*h*(cx*vr22 + fx*vr02) + x*(cx*vr20 + fx*vr00) + y*(cx*vr21 + fx*vr01))*(cy*vtz + fy*vty + (1.0/2.0)*h*(cy*vr22 + fy*vr12) + x*(cy*vr20 + fy*vr10) + y*(cy*vr21 + fy*vr11)), 2))/pow((1.0/4.0)*pow(d_ratio, 2)*pow(h, 2)*pow(-vr20*sin(theta) + vr21*cos(theta), 2) + (1.0/4.0)*pow(h, 2)*pow(l_ratio, 2)*pow(vr20*cos(theta) + vr21*sin(theta), 2) + (1.0/4.0)*pow(h, 2)*pow(vr22, 2) - pow((1.0/2.0)*h*vr22 + vr20*x + vr21*y + vtz, 2), 2))*((1.0/4.0)*pow(d_ratio, 2)*pow(h, 2)*pow(-vr20*sin(theta) + vr21*cos(theta), 2) + (1.0/4.0)*pow(h, 2)*pow(l_ratio, 2)*pow(vr20*cos(theta) + vr21*sin(theta), 2) + (1.0/4.0)*pow(h, 2)*pow(vr22, 2) - pow((1.0/2.0)*h*vr22 + vr20*x + vr21*y + vtz, 2)) + pow(cx*vtz + fx*vtx + (1.0/2.0)*h*(cx*vr22 + fx*vr02) + x*(cx*vr20 + fx*vr00) + y*(cx*vr21 + fx*vr01), 2) + pow(cy*vtz + fy*vty + (1.0/2.0)*h*(cy*vr22 + fy*vr12) + x*(cy*vr20 + fy*vr10) + y*(cy*vr21 + fy*vr11), 2))/((1.0/4.0)*pow(d_ratio, 2)*pow(h, 2)*pow(-vr20*sin(theta) + vr21*cos(theta), 2) + (1.0/4.0)*pow(h, 2)*pow(l_ratio, 2)*pow(vr20*cos(theta) + vr21*sin(theta), 2) + (1.0/4.0)*pow(h, 2)*pow(vr22, 2) - pow((1.0/2.0)*h*vr22 + vr20*x + vr21*y + vtz, 2))) ,\n",
      "\t (1.0/2.0)*M_SQRT2*sqrt((-1.0/4.0*pow(d_ratio, 2)*pow(h, 2)*pow(-(cx*vr20 + fx*vr00)*sin(theta) + (cx*vr21 + fx*vr01)*cos(theta), 2) - 1.0/4.0*pow(d_ratio, 2)*pow(h, 2)*pow(-(cy*vr20 + fy*vr10)*sin(theta) + (cy*vr21 + fy*vr11)*cos(theta), 2) - 1.0/4.0*pow(h, 2)*pow(l_ratio, 2)*pow((cx*vr20 + fx*vr00)*cos(theta) + (cx*vr21 + fx*vr01)*sin(theta), 2) - 1.0/4.0*pow(h, 2)*pow(l_ratio, 2)*pow((cy*vr20 + fy*vr10)*cos(theta) + (cy*vr21 + fy*vr11)*sin(theta), 2) - 1.0/4.0*pow(h, 2)*pow(cx*vr22 + fx*vr02, 2) - 1.0/4.0*pow(h, 2)*pow(cy*vr22 + fy*vr12, 2) + sqrt((pow((1.0/4.0)*pow(d_ratio, 2)*pow(h, 2)*pow(-(cx*vr20 + fx*vr00)*sin(theta) + (cx*vr21 + fx*vr01)*cos(theta), 2) + (1.0/4.0)*pow(h, 2)*pow(l_ratio, 2)*pow((cx*vr20 + fx*vr00)*cos(theta) + (cx*vr21 + fx*vr01)*sin(theta), 2) + (1.0/4.0)*pow(h, 2)*pow(cx*vr22 + fx*vr02, 2) - pow(cx*vtz + fx*vtx + (1.0/2.0)*h*(cx*vr22 + fx*vr02) + x*(cx*vr20 + fx*vr00) + y*(cx*vr21 + fx*vr01), 2), 2) - 2*((1.0/4.0)*pow(d_ratio, 2)*pow(h, 2)*pow(-(cx*vr20 + fx*vr00)*sin(theta) + (cx*vr21 + fx*vr01)*cos(theta), 2) + (1.0/4.0)*pow(h, 2)*pow(l_ratio, 2)*pow((cx*vr20 + fx*vr00)*cos(theta) + (cx*vr21 + fx*vr01)*sin(theta), 2) + (1.0/4.0)*pow(h, 2)*pow(cx*vr22 + fx*vr02, 2) - pow(cx*vtz + fx*vtx + (1.0/2.0)*h*(cx*vr22 + fx*vr02) + x*(cx*vr20 + fx*vr00) + y*(cx*vr21 + fx*vr01), 2))*((1.0/4.0)*pow(d_ratio, 2)*pow(h, 2)*pow(-(cy*vr20 + fy*vr10)*sin(theta) + (cy*vr21 + fy*vr11)*cos(theta), 2) + (1.0/4.0)*pow(h, 2)*pow(l_ratio, 2)*pow((cy*vr20 + fy*vr10)*cos(theta) + (cy*vr21 + fy*vr11)*sin(theta), 2) + (1.0/4.0)*pow(h, 2)*pow(cy*vr22 + fy*vr12, 2) - pow(cy*vtz + fy*vty + (1.0/2.0)*h*(cy*vr22 + fy*vr12) + x*(cy*vr20 + fy*vr10) + y*(cy*vr21 + fy*vr11), 2)) + pow((1.0/4.0)*pow(d_ratio, 2)*pow(h, 2)*pow(-(cy*vr20 + fy*vr10)*sin(theta) + (cy*vr21 + fy*vr11)*cos(theta), 2) + (1.0/4.0)*pow(h, 2)*pow(l_ratio, 2)*pow((cy*vr20 + fy*vr10)*cos(theta) + (cy*vr21 + fy*vr11)*sin(theta), 2) + (1.0/4.0)*pow(h, 2)*pow(cy*vr22 + fy*vr12, 2) - pow(cy*vtz + fy*vty + (1.0/2.0)*h*(cy*vr22 + fy*vr12) + x*(cy*vr20 + fy*vr10) + y*(cy*vr21 + fy*vr11), 2), 2) + 4*pow((1.0/4.0)*pow(d_ratio, 2)*pow(h, 2)*(-(cx*vr20 + fx*vr00)*sin(theta) + (cx*vr21 + fx*vr01)*cos(theta))*(-(cy*vr20 + fy*vr10)*sin(theta) + (cy*vr21 + fy*vr11)*cos(theta)) + (1.0/4.0)*pow(h, 2)*pow(l_ratio, 2)*((cx*vr20 + fx*vr00)*cos(theta) + (cx*vr21 + fx*vr01)*sin(theta))*((cy*vr20 + fy*vr10)*cos(theta) + (cy*vr21 + fy*vr11)*sin(theta)) + (1.0/4.0)*pow(h, 2)*(cx*vr22 + fx*vr02)*(cy*vr22 + fy*vr12) - (cx*vtz + fx*vtx + (1.0/2.0)*h*(cx*vr22 + fx*vr02) + x*(cx*vr20 + fx*vr00) + y*(cx*vr21 + fx*vr01))*(cy*vtz + fy*vty + (1.0/2.0)*h*(cy*vr22 + fy*vr12) + x*(cy*vr20 + fy*vr10) + y*(cy*vr21 + fy*vr11)), 2))/pow((1.0/4.0)*pow(d_ratio, 2)*pow(h, 2)*pow(-vr20*sin(theta) + vr21*cos(theta), 2) + (1.0/4.0)*pow(h, 2)*pow(l_ratio, 2)*pow(vr20*cos(theta) + vr21*sin(theta), 2) + (1.0/4.0)*pow(h, 2)*pow(vr22, 2) - pow((1.0/2.0)*h*vr22 + vr20*x + vr21*y + vtz, 2), 2))*((1.0/4.0)*pow(d_ratio, 2)*pow(h, 2)*pow(-vr20*sin(theta) + vr21*cos(theta), 2) + (1.0/4.0)*pow(h, 2)*pow(l_ratio, 2)*pow(vr20*cos(theta) + vr21*sin(theta), 2) + (1.0/4.0)*pow(h, 2)*pow(vr22, 2) - pow((1.0/2.0)*h*vr22 + vr20*x + vr21*y + vtz, 2)) + pow(cx*vtz + fx*vtx + (1.0/2.0)*h*(cx*vr22 + fx*vr02) + x*(cx*vr20 + fx*vr00) + y*(cx*vr21 + fx*vr01), 2) + pow(cy*vtz + fy*vty + (1.0/2.0)*h*(cy*vr22 + fy*vr12) + x*(cy*vr20 + fy*vr10) + y*(cy*vr21 + fy*vr11), 2))/((1.0/4.0)*pow(d_ratio, 2)*pow(h, 2)*pow(-vr20*sin(theta) + vr21*cos(theta), 2) + (1.0/4.0)*pow(h, 2)*pow(l_ratio, 2)*pow(vr20*cos(theta) + vr21*sin(theta), 2) + (1.0/4.0)*pow(h, 2)*pow(vr22, 2) - pow((1.0/2.0)*h*vr22 + vr20*x + vr21*y + vtz, 2))) ,\n",
      ";\n"
     ]
    }
   ],
   "source": [
    "# With print is possible to print the code\n",
    "# print(pycode(ax_a))\n",
    "print(\"\\\\\\\\result is a eigen::Matrix<4,8,RowMajor>, delete last ,\\nresult <<\")\n",
    "for i in ellipse_state:\n",
    "    print(\"\\t\",ccode(i), \",\")\n",
    "print(\";\")"
   ]
  },
  {
   "cell_type": "code",
   "execution_count": null,
   "metadata": {},
   "outputs": [],
   "source": [
    "# print in latex format the formulas for the world view projection matrix\n",
    "for i in range(3):\n",
    "    for j in range(4):\n",
    "        pass\n",
    "        #print(\"m_{{{}{}}} &= \".format(i,j), latex(M_wvp_real[i,j]), \"\\\\\\\\\")"
   ]
  },
  {
   "cell_type": "code",
   "execution_count": null,
   "metadata": {},
   "outputs": [],
   "source": [
    "# test values taken from simulation of an object inside the view image\n",
    "subs_values = {\n",
    "    x :         -23.2729,\n",
    "    y :         19.1563,\n",
    "    theta :     1.90237,\n",
    "    l_ratio :   0.167577,\n",
    "    d_ratio :   0.231017,\n",
    "    h :         1.86,\n",
    "    vr00 :      0.163513,\n",
    "    vr01 :      0.986458,\n",
    "    vr02 :      0.0127917,\n",
    "    vr10 :      0.32056,\n",
    "    vr11 :      -0.0408638,\n",
    "    vr12 :      -0.946346,\n",
    "    vr20 :      -0.933008,\n",
    "    vr21 :      0.15884,\n",
    "    vr22 :      -0.322901,\n",
    "    vtx :       -1.06324,\n",
    "    vty :       6.26204,\n",
    "    vtz :       1.73534,\n",
    "    fx :        295.6,\n",
    "    fy :        295.6,\n",
    "    cx :        512,\n",
    "    cy :        256\n",
    "}\n",
    "\n",
    "# dictionary to use for testing, decompose it to pass it to the functions\n",
    "function_values = {\n",
    "    'x' :         -29.0,\n",
    "    'y' :         16.0,\n",
    "    'theta' :     0.0,\n",
    "    'l_ratio' :   1.0,\n",
    "    'd_ratio' :   1.0,\n",
    "    'h' :         2.0,\n",
    "    'vr00' :      0.163513,\n",
    "    'vr01' :      0.986458,\n",
    "    'vr02' :      0.0127917,\n",
    "    'vr10' :      0.32056,\n",
    "    'vr11' :      -0.0408638,\n",
    "    'vr12' :      -0.946346,\n",
    "    'vr20' :      -0.933008,\n",
    "    'vr21' :      0.15884,\n",
    "    'vr22' :      -0.322901,\n",
    "    'vtx' :       -1.06324,\n",
    "    'vty' :       6.26204,\n",
    "    'vtz' :       1.73534,\n",
    "    'fx' :        295.6,\n",
    "    'fy' :        295.6,\n",
    "    'cx' :        512.0,\n",
    "    'cy' :        256.0\n",
    "}"
   ]
  },
  {
   "cell_type": "code",
   "execution_count": null,
   "metadata": {},
   "outputs": [
    {
     "name": "stdout",
     "output_type": "stream",
     "text": [
      "Matrix([[-840.000000000000, 464.000000000000, 29.0000000000000, 29.0000000000000], [464.000000000000, -255.000000000000, -16.0000000000000, -16.0000000000000], [29.0000000000000, -16.0000000000000, 0, -1.00000000000000], [29.0000000000000, -16.0000000000000, -1.00000000000000, -1]])\n",
      "Matrix([[-98.8201354368854, 46.3019711423218, -309.832094132105, -9.99100270000000], [46.3019711423218, -20.4773563214758, 143.716863468789, 4.63436680000000], [-309.832094132105, 143.716863468789, -960.689006324856, -31.0111110000000], [-9.99100270000000, 4.63436680000000, -31.0111110000000, -1]])\n",
      "Matrix([[-354258138.897673, -123568557.911589, -583459.138263777], [-123568557.911589, -42997868.1295848, -203453.680777789], [-583459.138263777, -203453.680777789, -960.689006324856]])\n",
      "Matrix([[-368754.234268692, -128624.931791719], [-128624.931791719, -44757.3229697656]])\n"
     ]
    }
   ],
   "source": [
    "# Right\n",
    "print(compute_Q_star_fix(**function_values))\n",
    "print(compute_Q_star(**function_values))\n",
    "print(compute_C_star(**function_values))\n",
    "# To check\n",
    "print(compute_C_sub(**function_values))\n",
    "print(compute_ellipse_state(**function_values))"
   ]
  },
  {
   "cell_type": "code",
   "execution_count": null,
   "metadata": {},
   "outputs": [],
   "source": [
    "# Test function with values\n",
    "for i in range(10):\n",
    "    compute_jacobian(\n",
    "        x =         i,\n",
    "        y =         19.1563,\n",
    "        theta =     1.90237,\n",
    "        l_ratio =   0.167577,\n",
    "        d_ratio =   0.231017,\n",
    "        h =         1.86,\n",
    "        vr00 =      0.163513,\n",
    "        vr01 =      0.986458,\n",
    "        vr02 =      0.0127917,\n",
    "        vr10 =      0.32056,\n",
    "        vr11 =      -0.0408638,\n",
    "        vr12 =      -0.946346,\n",
    "        vr20 =      -0.933008,\n",
    "        vr21 =      0.15884,\n",
    "        vr22 =      -0.322901,\n",
    "        vtx =       -1.06324,\n",
    "        vty =       6.26204,\n",
    "        vtz =       1.73534,\n",
    "        fx =        295.6,\n",
    "        fy =        295.6,\n",
    "        cx =        512,\n",
    "        cy =        256\n",
    "        )\n"
   ]
  }
 ],
 "metadata": {
  "kernelspec": {
   "display_name": "Python 3",
   "language": "python",
   "name": "python3"
  },
  "language_info": {
   "codemirror_mode": {
    "name": "ipython",
    "version": 3
   },
   "file_extension": ".py",
   "mimetype": "text/x-python",
   "name": "python",
   "nbconvert_exporter": "python",
   "pygments_lexer": "ipython3",
   "version": "3.8.10"
  }
 },
 "nbformat": 4,
 "nbformat_minor": 2
}
